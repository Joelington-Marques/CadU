{
  "nbformat": 4,
  "nbformat_minor": 0,
  "metadata": {
    "colab": {
      "name": "LogicadeProgramacao.ipynb",
      "provenance": [],
      "collapsed_sections": []
    },
    "kernelspec": {
      "name": "python3",
      "display_name": "Python 3"
    },
    "language_info": {
      "name": "python"
    }
  },
  "cells": [
    {
      "cell_type": "markdown",
      "source": [
        "# **Logica de Progamacao**"
      ],
      "metadata": {
        "id": "PQB_-9OcnIaI"
      }
    },
    {
      "cell_type": "code",
      "source": [
        "1+1"
      ],
      "metadata": {
        "colab": {
          "base_uri": "https://localhost:8080/"
        },
        "id": "O6ncP2tdnKZ2",
        "outputId": "97856481-2565-40d4-f33f-aba18194df4e"
      },
      "execution_count": null,
      "outputs": [
        {
          "output_type": "execute_result",
          "data": {
            "text/plain": [
              "2"
            ]
          },
          "metadata": {},
          "execution_count": 1
        }
      ]
    },
    {
      "cell_type": "code",
      "source": [
        "'Guilherme'"
      ],
      "metadata": {
        "colab": {
          "base_uri": "https://localhost:8080/",
          "height": 35
        },
        "id": "rpW7GTbcnscO",
        "outputId": "4499ec1e-86f8-44ea-99ca-dbf8f0bc318c"
      },
      "execution_count": null,
      "outputs": [
        {
          "output_type": "execute_result",
          "data": {
            "application/vnd.google.colaboratory.intrinsic+json": {
              "type": "string"
            },
            "text/plain": [
              "'Guilherme'"
            ]
          },
          "metadata": {},
          "execution_count": 3
        }
      ]
    },
    {
      "cell_type": "code",
      "source": [
        ""
      ],
      "metadata": {
        "id": "Cyk5af-3n7rT"
      },
      "execution_count": null,
      "outputs": []
    },
    {
      "cell_type": "markdown",
      "source": [
        "Minha Primeira funcao \n"
      ],
      "metadata": {
        "id": "A_Vp03L5TMYF"
      }
    },
    {
      "cell_type": "code",
      "source": [
        "def saudacao():\n",
        "  nome = input ('Qual o seu nome ?')\n",
        "  print(f'Olá{nome}')\n"
      ],
      "metadata": {
        "id": "NJl1iYCVTO7t"
      },
      "execution_count": null,
      "outputs": []
    },
    {
      "cell_type": "code",
      "source": [
        "saudacao()\n"
      ],
      "metadata": {
        "colab": {
          "base_uri": "https://localhost:8080/"
        },
        "id": "HE2XQW9JT2yA",
        "outputId": "0d6bc62e-c397-4c2d-d4d3-e4ecf9a89918"
      },
      "execution_count": null,
      "outputs": [
        {
          "output_type": "stream",
          "name": "stdout",
          "text": [
            "Qual o seu nome ?JO\n",
            "OláJO\n"
          ]
        }
      ]
    },
    {
      "cell_type": "code",
      "source": [
        ""
      ],
      "metadata": {
        "id": "i9RcsIfRz1FM"
      },
      "execution_count": null,
      "outputs": []
    },
    {
      "cell_type": "code",
      "source": [
        "idades = [1, 2, 3, 4]\n",
        "type(idades)"
      ],
      "metadata": {
        "id": "aKNMBU_Ue7SF",
        "colab": {
          "base_uri": "https://localhost:8080/"
        },
        "outputId": "29e3d0be-fb47-4af4-9117-a5c47957af25"
      },
      "execution_count": 1,
      "outputs": [
        {
          "output_type": "execute_result",
          "data": {
            "text/plain": [
              "list"
            ]
          },
          "metadata": {},
          "execution_count": 1
        }
      ]
    },
    {
      "cell_type": "code",
      "source": [
        "def verifica_se_pode_dirigir_sem_parametros():\n",
        "  idade = input( 'Qual a sua idade' )\n",
        "  idade = int(idade)\n",
        "  if idade >= 18:\n",
        "    print('Tem permissao para dirigir')\n",
        "  else:\n",
        "    print('Não tem permissao para dirigir') \n",
        "verifica_se_pode_dirigir_sem_parametros()\n",
        "\n",
        "for idade in idades:\n",
        "  verifica_se_pode_dirigir_sem_parametros()"
      ],
      "metadata": {
        "id": "ZkgX41P8T4_Q",
        "colab": {
          "base_uri": "https://localhost:8080/"
        },
        "outputId": "e9a753da-c2fe-424d-9007-28312062619e"
      },
      "execution_count": null,
      "outputs": [
        {
          "output_type": "stream",
          "name": "stdout",
          "text": [
            "Qual a sua idade1\n",
            "Não tem permissao para dirigir\n"
          ]
        }
      ]
    },
    {
      "cell_type": "code",
      "source": [
        ""
      ],
      "metadata": {
        "id": "2ISkoiPL0XeE"
      },
      "execution_count": null,
      "outputs": []
    }
  ]
}