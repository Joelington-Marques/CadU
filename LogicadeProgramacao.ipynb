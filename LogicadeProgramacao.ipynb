{
  "cells": [
    {
      "cell_type": "markdown",
      "metadata": {
        "id": "PQB_-9OcnIaI"
      },
      "source": [
        "# **Logica de Progamacao**"
      ]
    },
    {
      "cell_type": "code",
      "execution_count": null,
      "metadata": {
        "colab": {
          "base_uri": "https://localhost:8080/"
        },
        "id": "O6ncP2tdnKZ2",
        "outputId": "97856481-2565-40d4-f33f-aba18194df4e"
      },
      "outputs": [
        {
          "data": {
            "text/plain": [
              "2"
            ]
          },
          "execution_count": 1,
          "metadata": {},
          "output_type": "execute_result"
        }
      ],
      "source": [
        "1+1"
      ]
    },
    {
      "cell_type": "code",
      "execution_count": null,
      "metadata": {
        "colab": {
          "base_uri": "https://localhost:8080/",
          "height": 35
        },
        "id": "rpW7GTbcnscO",
        "outputId": "4499ec1e-86f8-44ea-99ca-dbf8f0bc318c"
      },
      "outputs": [
        {
          "data": {
            "application/vnd.google.colaboratory.intrinsic+json": {
              "type": "string"
            },
            "text/plain": [
              "'Guilherme'"
            ]
          },
          "execution_count": 3,
          "metadata": {},
          "output_type": "execute_result"
        }
      ],
      "source": [
        "'Guilherme'"
      ]
    },
    {
      "cell_type": "code",
      "execution_count": null,
      "metadata": {
        "id": "Cyk5af-3n7rT"
      },
      "outputs": [],
      "source": []
    },
    {
      "cell_type": "markdown",
      "metadata": {
        "id": "A_Vp03L5TMYF"
      },
      "source": [
        "Minha Primeira funcao \n"
      ]
    },
    {
      "cell_type": "code",
      "execution_count": null,
      "metadata": {
        "id": "NJl1iYCVTO7t"
      },
      "outputs": [],
      "source": [
        "def saudacao():\n",
        "  nome = input ('Qual o seu nome ?')\n",
        "  print(f'Olá{nome}')\n"
      ]
    },
    {
      "cell_type": "code",
      "execution_count": null,
      "metadata": {
        "colab": {
          "base_uri": "https://localhost:8080/"
        },
        "id": "HE2XQW9JT2yA",
        "outputId": "0d6bc62e-c397-4c2d-d4d3-e4ecf9a89918"
      },
      "outputs": [
        {
          "name": "stdout",
          "output_type": "stream",
          "text": [
            "Qual o seu nome ?JO\n",
            "OláJO\n"
          ]
        }
      ],
      "source": [
        "saudacao()\n"
      ]
    },
    {
      "cell_type": "code",
      "execution_count": null,
      "metadata": {
        "id": "i9RcsIfRz1FM"
      },
      "outputs": [],
      "source": []
    },
    {
      "cell_type": "code",
      "execution_count": 1,
      "metadata": {
        "colab": {
          "base_uri": "https://localhost:8080/"
        },
        "id": "aKNMBU_Ue7SF",
        "outputId": "29e3d0be-fb47-4af4-9117-a5c47957af25"
      },
      "outputs": [
        {
          "data": {
            "text/plain": [
              "list"
            ]
          },
          "execution_count": 1,
          "metadata": {},
          "output_type": "execute_result"
        }
      ],
      "source": [
        "idades = [1, 2, 3, 4]\n",
        "type(idades)"
      ]
    },
    {
      "cell_type": "code",
      "execution_count": null,
      "metadata": {
        "colab": {
          "base_uri": "https://localhost:8080/"
        },
        "id": "ZkgX41P8T4_Q",
        "outputId": "e9a753da-c2fe-424d-9007-28312062619e"
      },
      "outputs": [
        {
          "name": "stdout",
          "output_type": "stream",
          "text": [
            "Qual a sua idade1\n",
            "Não tem permissao para dirigir\n"
          ]
        }
      ],
      "source": [
        "def verifica_se_pode_dirigir_sem_parametros():\n",
        "  idade = input( 'Qual a sua idade' )\n",
        "  idade = int(idade)\n",
        "  if idade >= 18:\n",
        "    print('Tem permissao para dirigir')\n",
        "  else:\n",
        "    print('Não tem permissao para dirigir') \n",
        "verifica_se_pode_dirigir_sem_parametros()\n",
        "\n",
        "for idade in idades:\n",
        "  verifica_se_pode_dirigir_sem_parametros()"
      ]
    },
    {
      "cell_type": "code",
      "execution_count": null,
      "metadata": {
        "id": "2ISkoiPL0XeE"
      },
      "outputs": [],
      "source": [
        "Vamos altera o codigo agora para agenda. "
      ]
    }
  ],
  "metadata": {
    "colab": {
      "collapsed_sections": [],
      "name": "LogicadeProgramacao.ipynb",
      "provenance": []
    },
    "kernelspec": {
      "display_name": "Python 3",
      "name": "python3"
    },
    "language_info": {
      "name": "python"
    }
  },
  "nbformat": 4,
  "nbformat_minor": 0
}
